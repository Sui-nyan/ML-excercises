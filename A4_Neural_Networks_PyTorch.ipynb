{
 "cells": [
  {
   "attachments": {},
   "cell_type": "markdown",
   "id": "207ad027-6513-4f7b-a8a9-64da5fe9bbce",
   "metadata": {},
   "source": [
    "# [A4] Neural Networks\n",
    "\n",
    "In this exercise, you will use PyTorch to build a couple of supervised learning models:\n",
    "* Logistic regression\n",
    "* Shallow neural network\n",
    "* Deep neural network (\"Multilayer Perceptron\")\n",
    "* Convolutional neural network\n",
    "\n",
    "Although PyTorch is a full-fledged deep learning framework with lots of components pre-built (many of them, such as different neural network layers, loss functions, and optimization algorithms in PyTorch's `.nn` submodule), you will build as much as possible from scratch in this exercise.\n",
    "\n",
    "## 1: PyTorch Basics\n",
    "\n",
    "Some of PyTorchs features are very similar to numpy. As you can see in the following code cell, you can define \"arrays\" very similar, but this time they are called [\"Tensor\"](https://en.wikipedia.org/wiki/Tensor_(machine_learning)).\n"
   ]
  },
  {
   "cell_type": "code",
   "id": "37bf0275-6ac5-4ad2-bbcf-3e554a9d9920",
   "metadata": {
    "ExecuteTime": {
     "end_time": "2025-05-08T14:22:33.110257Z",
     "start_time": "2025-05-08T14:22:29.058102Z"
    }
   },
   "source": [
    "import torch\n",
    "import numpy as np\n",
    "import pandas as pd\n",
    "from IPython.display import Latex\n",
    "from matplotlib import pyplot as plt\n",
    "\n",
    "torch.manual_seed(42)\n",
    "\n",
    "x = torch.Tensor(2, 3, 4)\n",
    "y = torch.zeros(3, 3)\n",
    "\n",
    "print(f\"Using torch {torch.__version__}\")\n",
    "print(f\"x: {x}\\nx.shape: {x.shape}\\ny: {y}\")"
   ],
   "outputs": [
    {
     "name": "stdout",
     "output_type": "stream",
     "text": [
      "Using torch 2.7.0+cpu\n",
      "x: tensor([[[3.0109e-36, 1.1869e-42, 0.0000e+00, 0.0000e+00],\n",
      "         [0.0000e+00, 0.0000e+00, 0.0000e+00, 0.0000e+00],\n",
      "         [0.0000e+00, 0.0000e+00, 0.0000e+00, 0.0000e+00]],\n",
      "\n",
      "        [[0.0000e+00, 0.0000e+00, 0.0000e+00, 0.0000e+00],\n",
      "         [0.0000e+00, 0.0000e+00, 0.0000e+00, 0.0000e+00],\n",
      "         [0.0000e+00, 0.0000e+00, 0.0000e+00, 0.0000e+00]]])\n",
      "x.shape: torch.Size([2, 3, 4])\n",
      "y: tensor([[0., 0., 0.],\n",
      "        [0., 0., 0.],\n",
      "        [0., 0., 0.]])\n"
     ]
    }
   ],
   "execution_count": 1
  },
  {
   "attachments": {},
   "cell_type": "markdown",
   "id": "f91c3b42",
   "metadata": {},
   "source": [
    "### 1.1: Basic Operations\n",
    "\n",
    "It is also possible to perform operations on these tensors, often named the same as the numpy methods:\n"
   ]
  },
  {
   "cell_type": "code",
   "id": "08833efd",
   "metadata": {
    "ExecuteTime": {
     "end_time": "2025-05-08T14:22:37.309161Z",
     "start_time": "2025-05-08T14:22:37.291162Z"
    }
   },
   "source": [
    "x1 = torch.ones(3, 4)\n",
    "x2 = torch.arange(3 * 4).reshape(3, 4)\n",
    "sum = x1 + x2\n",
    "\n",
    "print(f\"  {x1}\\n+ {x2}\\n= {sum}\")\n"
   ],
   "outputs": [
    {
     "name": "stdout",
     "output_type": "stream",
     "text": [
      "  tensor([[1., 1., 1., 1.],\n",
      "        [1., 1., 1., 1.],\n",
      "        [1., 1., 1., 1.]])\n",
      "+ tensor([[ 0,  1,  2,  3],\n",
      "        [ 4,  5,  6,  7],\n",
      "        [ 8,  9, 10, 11]])\n",
      "= tensor([[ 1.,  2.,  3.,  4.],\n",
      "        [ 5.,  6.,  7.,  8.],\n",
      "        [ 9., 10., 11., 12.]])\n"
     ]
    }
   ],
   "execution_count": 2
  },
  {
   "attachments": {},
   "cell_type": "markdown",
   "id": "f7d09756",
   "metadata": {},
   "source": [
    "You can also do more performant in-place operations that change the original tensor by adding a ` ` _ ` ` after a method name. \n",
    "\n",
    "Note how we need to explictly convert the data type of one of the two tensors, as this conversion is not done automatically.\n"
   ]
  },
  {
   "cell_type": "code",
   "id": "f85713b2",
   "metadata": {
    "ExecuteTime": {
     "end_time": "2025-05-08T14:22:39.402541Z",
     "start_time": "2025-05-08T14:22:39.391543Z"
    }
   },
   "source": [
    "x2 = torch.arange(3 * 4).reshape(3, 4)\n",
    "x2.add_(x1.long())\n",
    "print(x2)\n"
   ],
   "outputs": [
    {
     "name": "stdout",
     "output_type": "stream",
     "text": [
      "tensor([[ 1,  2,  3,  4],\n",
      "        [ 5,  6,  7,  8],\n",
      "        [ 9, 10, 11, 12]])\n"
     ]
    }
   ],
   "execution_count": 3
  },
  {
   "attachments": {},
   "cell_type": "markdown",
   "id": "82eeb994",
   "metadata": {},
   "source": [
    "For matrix multiplication, we can use the [@ operator](https://pytorch.org/docs/stable/generated/torch.bmm.html?highlight=bmm#torch.bmm) or the [matmul](https://pytorch.org/docs/stable/generated/torch.matmul.html) function.\n"
   ]
  },
  {
   "cell_type": "code",
   "id": "faa76f38",
   "metadata": {
    "ExecuteTime": {
     "end_time": "2025-05-08T14:22:40.721395Z",
     "start_time": "2025-05-08T14:22:40.680878Z"
    }
   },
   "source": [
    "x3 = torch.tile(torch.arange(1, 4), (4, 1)).T\n",
    "x4 = torch.arange(3 * 4).reshape(4, 3)\n",
    "mult = x3 @ x4\n",
    "print(f\"  {x3}\\n@ {x4}\\n= {mult}\\n= {torch.matmul(x3, x4)}\")\n"
   ],
   "outputs": [
    {
     "name": "stdout",
     "output_type": "stream",
     "text": [
      "  tensor([[1, 1, 1, 1],\n",
      "        [2, 2, 2, 2],\n",
      "        [3, 3, 3, 3]])\n",
      "@ tensor([[ 0,  1,  2],\n",
      "        [ 3,  4,  5],\n",
      "        [ 6,  7,  8],\n",
      "        [ 9, 10, 11]])\n",
      "= tensor([[18, 22, 26],\n",
      "        [36, 44, 52],\n",
      "        [54, 66, 78]])\n",
      "= tensor([[18, 22, 26],\n",
      "        [36, 44, 52],\n",
      "        [54, 66, 78]])\n"
     ]
    }
   ],
   "execution_count": 4
  },
  {
   "attachments": {},
   "cell_type": "markdown",
   "id": "f474422b",
   "metadata": {},
   "source": [
    "### 1.2: Gradients\n",
    "\n",
    "Another very important feature of PyTorch is the possibilty to calculate gradients (multiple values) and the derivative (single value) of functions we define. \n",
    "\n",
    "This is very useful when performing gradient descent for the backpropagation algorithm (for weight update in neural networks).\n",
    "\n",
    "All tensors need to be of dtype float and need to have \"requires_grad\" enabled.\n",
    "\n",
    "Let's do a simple example to understand the math behind this. You remember from school that the derivation of $a\\cdot x^n $ is $ n\\cdot a\\cdot x^{n-1}$, so let's use\n",
    "\n",
    "$$ f(x) = 4x^2 $$\n",
    "$$ f'(x)=2 \\cdot  4 \\cdot  x^1 = 8x$$ \n",
    "\n",
    "Given e.g. $x=5$ we can now easily calculate by hand: \n",
    "$$f(5)=4\\cdot 5^2=100$$\n",
    "$$f'(5)=8\\cdot 5=40$$\n",
    "\n",
    "With PyTorch, we can calculate $f'(5)$  without even specifying the $f'(x)$ function first:\n"
   ]
  },
  {
   "cell_type": "code",
   "id": "31958624",
   "metadata": {
    "ExecuteTime": {
     "end_time": "2025-05-08T14:22:43.691403Z",
     "start_time": "2025-05-08T14:22:43.656614Z"
    }
   },
   "source": [
    "x5 = torch.tensor(5.0, requires_grad=True)\n",
    "fx5 = 4 * x5**2\n",
    "fx5.backward()\n",
    "\n",
    "display(Latex(f\"$$ f({x5})={ fx5 } \\\\\\\\ f'({x5})={ x5.grad } $$\"))\n"
   ],
   "outputs": [
    {
     "data": {
      "text/plain": [
       "<IPython.core.display.Latex object>"
      ],
      "text/latex": "$$ f(5.0)=100.0 \\\\ f'(5.0)=40.0 $$"
     },
     "metadata": {},
     "output_type": "display_data"
    }
   ],
   "execution_count": 5
  },
  {
   "attachments": {},
   "cell_type": "markdown",
   "id": "c60d20c8",
   "metadata": {},
   "source": [
    "Partial derivatives can be calculated very similar:\n",
    "$$ f(u, v) = 2u^4 + 3v^3 + 2uv $$\n",
    "\n",
    "$$f'_u({u}, {v})=\\frac{\\partial f(u, v)}{\\partial u} = 8u^3 + 2v$$\n",
    "$$f'_v({u}, {v})=\\frac{\\partial f(u, v)}{\\partial v} = 9v^2 + 2u$$\n"
   ]
  },
  {
   "cell_type": "code",
   "id": "f6b2cf00",
   "metadata": {
    "ExecuteTime": {
     "end_time": "2025-05-08T14:22:57.804449Z",
     "start_time": "2025-05-08T14:22:57.786879Z"
    }
   },
   "source": [
    "u = torch.tensor(3.0, requires_grad=True)\n",
    "v = torch.tensor(4.0, requires_grad=True)\n",
    "fuv = 2 * u**4 + 3 * v**3 + 2 * u * v\n",
    "fuv.backward()\n",
    "\n",
    "display(\n",
    "    Latex(\n",
    "        f\"$$ f({u},{v})={ fuv }       \\\\\\\\\"\n",
    "        f\"   f'_u({u},{v})={ u.grad } \\\\\\\\\"\n",
    "        f\"   f'_v({u},{v})={ v.grad } $$\"\n",
    "    )\n",
    ")\n"
   ],
   "outputs": [
    {
     "data": {
      "text/plain": [
       "<IPython.core.display.Latex object>"
      ],
      "text/latex": "$$ f(3.0,4.0)=378.0       \\\\   f'_u(3.0,4.0)=224.0 \\\\   f'_v(3.0,4.0)=150.0 $$"
     },
     "metadata": {},
     "output_type": "display_data"
    }
   ],
   "execution_count": 6
  },
  {
   "attachments": {},
   "cell_type": "markdown",
   "id": "612a6acb",
   "metadata": {},
   "source": [
    "We can apply our function to multiple values at once using non-scalar tensors.\n",
    "\n",
    "Just like our good old graphical calculator did it back in the day, we can now calculate the derivation function values for multiple values of x.\n"
   ]
  },
  {
   "cell_type": "code",
   "id": "fe0893a9",
   "metadata": {
    "ExecuteTime": {
     "end_time": "2025-05-08T14:23:00.136920Z",
     "start_time": "2025-05-08T14:23:00.129659Z"
    }
   },
   "source": [
    "def plt_derivation(x, y, x_label=\"X\"):\n",
    "    plt.plot(x.detach().numpy(), y.detach().numpy(), label=f\"$f({x_label})$\")\n",
    "    plt.plot(x.detach().numpy(), x.grad.detach().numpy(), label=f\"$f'({x_label})$\")\n",
    "    plt.legend()\n",
    "    plt.xlabel(x_label)\n",
    "    plt.gca().spines[\"left\"].set_position(\"zero\")\n",
    "    plt.gca().spines[\"bottom\"].set_position(\"zero\")\n",
    "    plt.gca().spines[\"right\"].set_color(\"none\")\n",
    "    plt.gca().spines[\"top\"].set_color(\"none\")\n",
    "    plt.grid()\n",
    "\n",
    "    return plt.show()\n"
   ],
   "outputs": [],
   "execution_count": 7
  },
  {
   "cell_type": "code",
   "id": "24da230d",
   "metadata": {
    "ExecuteTime": {
     "end_time": "2025-05-08T14:23:03.126790Z",
     "start_time": "2025-05-08T14:23:02.599020Z"
    }
   },
   "source": [
    "sample_range = 10\n",
    "X5 = torch.linspace(-sample_range, sample_range, 21, requires_grad=True)\n",
    "fX5 = 4 * X5**2\n",
    "fX5.sum().backward()\n",
    "\n",
    "plt_derivation(X5, fX5, x_label=\"X_5\")\n"
   ],
   "outputs": [
    {
     "data": {
      "text/plain": [
       "<Figure size 640x480 with 1 Axes>"
      ],
      "image/png": "[encoded data removed]"
     },
     "metadata": {},
     "output_type": "display_data"
    }
   ],
   "execution_count": 8
  },
  {
   "attachments": {},
   "cell_type": "markdown",
   "id": "f9ea104f",
   "metadata": {},
   "source": [
    "We can use the same approach to plot and calculate gradients of our more advanced function that takes two variables and has two derivations.\n",
    "\n",
    "Note how we create a grid of (repeated) U and V values (feel free to print their values) to properly vectorize the ` ` fUV ` ` function (apply it over all combinations of $u$ and $v$ values).\n",
    "\n",
    "To keep the gradient backtracking functionality, we are not allowed to use any non-PyTorch methods or for example regular ` `for` `-loops. This way, calculation will also be a lot faster.\n",
    "\n",
    "By default, gradients will only be calculated for the starting nodes (\"leafs\") of the \"computation graph\" that PyTorch creates (U and V in this case). If we want to take a look at gradients of intermediate variables, we need to explicitly tell PyTorch to retain the calculated gradient for this variable.\n"
   ]
  },
  {
   "cell_type": "code",
   "id": "c8e8f4f8",
   "metadata": {},
   "source": [
    "def plt_derivation_3d(u, v, y, u_label=\"U\", v_label=\"V\"):\n",
    "    fig = plt.figure(figsize=(10, 10))\n",
    "    ax = fig.add_subplot(projection=\"3d\")\n",
    "    # ax.set_proj_type('ortho') # ax.view_init(elev=0, azim=-90, roll=0)\n",
    "    for z_label, Z in {\"f\": y, \"f'_u\": u.grad, \"f'_v\": v.grad}.items():\n",
    "        s = ax.plot_surface(\n",
    "            X=u.detach().numpy(),\n",
    "            Y=v.detach().numpy(),\n",
    "            Z=Z.detach().numpy(),\n",
    "            label=f\"${z_label}({u_label},{v_label})$\",\n",
    "            alpha=0.4,\n",
    "        )\n",
    "        # quick fix for bug in some matplotlib versions:\n",
    "        s._facecolors2d, s._edgecolors2d = s._facecolor3d, s._edgecolor3d\n",
    "    ax.legend()\n",
    "    ax.update({\"xlabel\": u_label, \"ylabel\": v_label, \"zlabel\": \"f\"})\n",
    "    return plt.show()\n"
   ],
   "outputs": [],
   "execution_count": null
  },
  {
   "cell_type": "code",
   "id": "63617193",
   "metadata": {},
   "source": [
    "sample_range = 5\n",
    "U = torch.linspace(-sample_range, sample_range, 21, requires_grad=True)\n",
    "V = torch.linspace(-sample_range, sample_range, 21, requires_grad=True)\n",
    "\n",
    "U_grid, V_grid = torch.meshgrid((U, V), indexing=\"xy\")\n",
    "U_grid.retain_grad()\n",
    "V_grid.retain_grad()\n",
    "\n",
    "fUV = 2 * U_grid**4 + 3 * V_grid**3 + 2 * U_grid * V_grid\n",
    "fUV.sum().backward()\n",
    "\n",
    "plt_derivation_3d(U_grid, V_grid, fUV)\n"
   ],
   "outputs": [],
   "execution_count": null
  },
  {
   "attachments": {},
   "cell_type": "markdown",
   "id": "aac54773",
   "metadata": {},
   "source": [
    "We can use this \"autograd\" functionality for any kind of tensors and chain operations as we want.\n",
    "\n",
    "As you see, with every operation, a function ` ` grad_fn ` ` is passed to the resulting tensor, allowing us to perform the backwards step starting from the last element:\n"
   ]
  },
  {
   "cell_type": "code",
   "id": "68dfb569",
   "metadata": {},
   "source": [
    "x6 = torch.arange(3, dtype=torch.float32, requires_grad=True)\n",
    "x7 = torch.arange(4, 7, dtype=torch.float32).requires_grad_()\n",
    "\n",
    "a1 = x6 + x7\n",
    "a2 = a1 + 2\n",
    "a3 = a2**x6\n",
    "print(f\"  {x6}\\n+ {x7}\\n= {a1}\\n+ 2\\n= {a2}\\n^ {x6}\\n= {a3}\")\n",
    "\n",
    "a3.sum().backward()\n",
    "print(\"-\" * 53 + f\"\\ngrad(x6) = {x6.grad}\\ngrad(x7) = {x7.grad}\")\n"
   ],
   "outputs": [],
   "execution_count": null
  },
  {
   "attachments": {},
   "cell_type": "markdown",
   "id": "f841b220",
   "metadata": {},
   "source": [
    "### 1.3: ✏️ Gradient Exercises\n",
    "\n",
    "1. Calculate the derivative $f'(x)$ and $f'(4)$ of $ f(x) = 8x^4 + 4x^2 + x $ by hand using no code.\n"
   ]
  },
  {
   "cell_type": "code",
   "id": "a806ad82",
   "metadata": {},
   "source": [
    "# TODO: Answer\n",
    "#"
   ],
   "outputs": [],
   "execution_count": null
  },
  {
   "attachments": {},
   "cell_type": "markdown",
   "id": "de8fbe8e",
   "metadata": {},
   "source": [
    "2. Implement $f(x)$ as a python method and calculate the derivative $f'(4)$ using PyTorch.\n"
   ]
  },
  {
   "metadata": {
    "ExecuteTime": {
     "end_time": "2025-05-08T14:25:06.863442Z",
     "start_time": "2025-05-08T14:25:06.854921Z"
    }
   },
   "cell_type": "code",
   "source": [
    "# TODO: Implement\n",
    "def f(x):\n",
    "    return 8 * x**4 + 4 * x**2 + x\n",
    "\n",
    "x4 = torch.linspace(-15, 30, 4, requires_grad=True)\n",
    "fx = f(x)\n",
    "f4 = f(4)\n",
    "f_derivat = fx.sum().backward()\n",
    "print(f\"f(4) = {fx}, f'(4) = {x.grad}\")"
   ],
   "id": "94b11415",
   "outputs": [
    {
     "name": "stdout",
     "output_type": "stream",
     "text": [
      "f(4) = 2116.0, f'(4) = 2081.0\n"
     ]
    }
   ],
   "execution_count": 9
  },
  {
   "metadata": {},
   "cell_type": "markdown",
   "source": "3. Plot $f(x)$ and $f'(x)$ for $x\\in[-15, 30]$.\n",
   "id": "2fd51d4c"
  },
  {
   "metadata": {
    "ExecuteTime": {
     "end_time": "2025-05-08T14:26:36.518312Z",
     "start_time": "2025-05-08T14:26:36.208578Z"
    }
   },
   "cell_type": "code",
   "source": [
    "# TODO: Implement\n",
    "# sample_range = 10\n",
    "# X5 = torch.linspace(-sample_range, sample_range, 21, requires_grad=True)\n",
    "# fX5 = 4 * X5**2\n",
    "# fX5.sum().backward()\n",
    "#\n",
    "# plt_derivation(X5, fX5, x_label=\"X_5\")\n",
    "\n",
    "plt_derivation(x4, fx, x_label=\"X\")\n"
   ],
   "id": "5cd5884d",
   "outputs": [
    {
     "ename": "ValueError",
     "evalue": "x and y must have same first dimension, but have shapes (4, 3) and (1,)",
     "output_type": "error",
     "traceback": [
      "\u001B[1;31m---------------------------------------------------------------------------\u001B[0m",
      "\u001B[1;31mValueError\u001B[0m                                Traceback (most recent call last)",
      "Cell \u001B[1;32mIn[13], line 9\u001B[0m\n\u001B[0;32m      1\u001B[0m \u001B[38;5;66;03m# TODO: Implement\u001B[39;00m\n\u001B[0;32m      2\u001B[0m \u001B[38;5;66;03m# sample_range = 10\u001B[39;00m\n\u001B[0;32m      3\u001B[0m \u001B[38;5;66;03m# X5 = torch.linspace(-sample_range, sample_range, 21, requires_grad=True)\u001B[39;00m\n\u001B[1;32m   (...)\u001B[0m\n\u001B[0;32m      6\u001B[0m \u001B[38;5;66;03m#\u001B[39;00m\n\u001B[0;32m      7\u001B[0m \u001B[38;5;66;03m# plt_derivation(X5, fX5, x_label=\"X_5\")\u001B[39;00m\n\u001B[1;32m----> 9\u001B[0m plt_derivation(x4, fx, x_label\u001B[38;5;241m=\u001B[39m\u001B[38;5;124m\"\u001B[39m\u001B[38;5;124mX\u001B[39m\u001B[38;5;124m\"\u001B[39m)\n",
      "Cell \u001B[1;32mIn[7], line 2\u001B[0m, in \u001B[0;36mplt_derivation\u001B[1;34m(x, y, x_label)\u001B[0m\n\u001B[0;32m      1\u001B[0m \u001B[38;5;28;01mdef\u001B[39;00m \u001B[38;5;21mplt_derivation\u001B[39m(x, y, x_label\u001B[38;5;241m=\u001B[39m\u001B[38;5;124m\"\u001B[39m\u001B[38;5;124mX\u001B[39m\u001B[38;5;124m\"\u001B[39m):\n\u001B[1;32m----> 2\u001B[0m     plt\u001B[38;5;241m.\u001B[39mplot(x\u001B[38;5;241m.\u001B[39mdetach()\u001B[38;5;241m.\u001B[39mnumpy(), y\u001B[38;5;241m.\u001B[39mdetach()\u001B[38;5;241m.\u001B[39mnumpy(), label\u001B[38;5;241m=\u001B[39m\u001B[38;5;124mf\u001B[39m\u001B[38;5;124m\"\u001B[39m\u001B[38;5;124m$f(\u001B[39m\u001B[38;5;132;01m{\u001B[39;00mx_label\u001B[38;5;132;01m}\u001B[39;00m\u001B[38;5;124m)$\u001B[39m\u001B[38;5;124m\"\u001B[39m)\n\u001B[0;32m      3\u001B[0m     plt\u001B[38;5;241m.\u001B[39mplot(x\u001B[38;5;241m.\u001B[39mdetach()\u001B[38;5;241m.\u001B[39mnumpy(), x\u001B[38;5;241m.\u001B[39mgrad\u001B[38;5;241m.\u001B[39mdetach()\u001B[38;5;241m.\u001B[39mnumpy(), label\u001B[38;5;241m=\u001B[39m\u001B[38;5;124mf\u001B[39m\u001B[38;5;124m\"\u001B[39m\u001B[38;5;124m$f\u001B[39m\u001B[38;5;124m'\u001B[39m\u001B[38;5;124m(\u001B[39m\u001B[38;5;132;01m{\u001B[39;00mx_label\u001B[38;5;132;01m}\u001B[39;00m\u001B[38;5;124m)$\u001B[39m\u001B[38;5;124m\"\u001B[39m)\n\u001B[0;32m      4\u001B[0m     plt\u001B[38;5;241m.\u001B[39mlegend()\n",
      "File \u001B[1;32m~\\anaconda3\\Lib\\site-packages\\matplotlib\\pyplot.py:3794\u001B[0m, in \u001B[0;36mplot\u001B[1;34m(scalex, scaley, data, *args, **kwargs)\u001B[0m\n\u001B[0;32m   3786\u001B[0m \u001B[38;5;129m@_copy_docstring_and_deprecators\u001B[39m(Axes\u001B[38;5;241m.\u001B[39mplot)\n\u001B[0;32m   3787\u001B[0m \u001B[38;5;28;01mdef\u001B[39;00m \u001B[38;5;21mplot\u001B[39m(\n\u001B[0;32m   3788\u001B[0m     \u001B[38;5;241m*\u001B[39margs: \u001B[38;5;28mfloat\u001B[39m \u001B[38;5;241m|\u001B[39m ArrayLike \u001B[38;5;241m|\u001B[39m \u001B[38;5;28mstr\u001B[39m,\n\u001B[1;32m   (...)\u001B[0m\n\u001B[0;32m   3792\u001B[0m     \u001B[38;5;241m*\u001B[39m\u001B[38;5;241m*\u001B[39mkwargs,\n\u001B[0;32m   3793\u001B[0m ) \u001B[38;5;241m-\u001B[39m\u001B[38;5;241m>\u001B[39m \u001B[38;5;28mlist\u001B[39m[Line2D]:\n\u001B[1;32m-> 3794\u001B[0m     \u001B[38;5;28;01mreturn\u001B[39;00m gca()\u001B[38;5;241m.\u001B[39mplot(\n\u001B[0;32m   3795\u001B[0m         \u001B[38;5;241m*\u001B[39margs,\n\u001B[0;32m   3796\u001B[0m         scalex\u001B[38;5;241m=\u001B[39mscalex,\n\u001B[0;32m   3797\u001B[0m         scaley\u001B[38;5;241m=\u001B[39mscaley,\n\u001B[0;32m   3798\u001B[0m         \u001B[38;5;241m*\u001B[39m\u001B[38;5;241m*\u001B[39m({\u001B[38;5;124m\"\u001B[39m\u001B[38;5;124mdata\u001B[39m\u001B[38;5;124m\"\u001B[39m: data} \u001B[38;5;28;01mif\u001B[39;00m data \u001B[38;5;129;01mis\u001B[39;00m \u001B[38;5;129;01mnot\u001B[39;00m \u001B[38;5;28;01mNone\u001B[39;00m \u001B[38;5;28;01melse\u001B[39;00m {}),\n\u001B[0;32m   3799\u001B[0m         \u001B[38;5;241m*\u001B[39m\u001B[38;5;241m*\u001B[39mkwargs,\n\u001B[0;32m   3800\u001B[0m     )\n",
      "File \u001B[1;32m~\\anaconda3\\Lib\\site-packages\\matplotlib\\axes\\_axes.py:1779\u001B[0m, in \u001B[0;36mAxes.plot\u001B[1;34m(self, scalex, scaley, data, *args, **kwargs)\u001B[0m\n\u001B[0;32m   1536\u001B[0m \u001B[38;5;250m\u001B[39m\u001B[38;5;124;03m\"\"\"\u001B[39;00m\n\u001B[0;32m   1537\u001B[0m \u001B[38;5;124;03mPlot y versus x as lines and/or markers.\u001B[39;00m\n\u001B[0;32m   1538\u001B[0m \n\u001B[1;32m   (...)\u001B[0m\n\u001B[0;32m   1776\u001B[0m \u001B[38;5;124;03m(``'green'``) or hex strings (``'#008000'``).\u001B[39;00m\n\u001B[0;32m   1777\u001B[0m \u001B[38;5;124;03m\"\"\"\u001B[39;00m\n\u001B[0;32m   1778\u001B[0m kwargs \u001B[38;5;241m=\u001B[39m cbook\u001B[38;5;241m.\u001B[39mnormalize_kwargs(kwargs, mlines\u001B[38;5;241m.\u001B[39mLine2D)\n\u001B[1;32m-> 1779\u001B[0m lines \u001B[38;5;241m=\u001B[39m [\u001B[38;5;241m*\u001B[39m\u001B[38;5;28mself\u001B[39m\u001B[38;5;241m.\u001B[39m_get_lines(\u001B[38;5;28mself\u001B[39m, \u001B[38;5;241m*\u001B[39margs, data\u001B[38;5;241m=\u001B[39mdata, \u001B[38;5;241m*\u001B[39m\u001B[38;5;241m*\u001B[39mkwargs)]\n\u001B[0;32m   1780\u001B[0m \u001B[38;5;28;01mfor\u001B[39;00m line \u001B[38;5;129;01min\u001B[39;00m lines:\n\u001B[0;32m   1781\u001B[0m     \u001B[38;5;28mself\u001B[39m\u001B[38;5;241m.\u001B[39madd_line(line)\n",
      "File \u001B[1;32m~\\anaconda3\\Lib\\site-packages\\matplotlib\\axes\\_base.py:296\u001B[0m, in \u001B[0;36m_process_plot_var_args.__call__\u001B[1;34m(self, axes, data, *args, **kwargs)\u001B[0m\n\u001B[0;32m    294\u001B[0m     this \u001B[38;5;241m+\u001B[39m\u001B[38;5;241m=\u001B[39m args[\u001B[38;5;241m0\u001B[39m],\n\u001B[0;32m    295\u001B[0m     args \u001B[38;5;241m=\u001B[39m args[\u001B[38;5;241m1\u001B[39m:]\n\u001B[1;32m--> 296\u001B[0m \u001B[38;5;28;01myield from\u001B[39;00m \u001B[38;5;28mself\u001B[39m\u001B[38;5;241m.\u001B[39m_plot_args(\n\u001B[0;32m    297\u001B[0m     axes, this, kwargs, ambiguous_fmt_datakey\u001B[38;5;241m=\u001B[39mambiguous_fmt_datakey)\n",
      "File \u001B[1;32m~\\anaconda3\\Lib\\site-packages\\matplotlib\\axes\\_base.py:486\u001B[0m, in \u001B[0;36m_process_plot_var_args._plot_args\u001B[1;34m(self, axes, tup, kwargs, return_kwargs, ambiguous_fmt_datakey)\u001B[0m\n\u001B[0;32m    483\u001B[0m     axes\u001B[38;5;241m.\u001B[39myaxis\u001B[38;5;241m.\u001B[39mupdate_units(y)\n\u001B[0;32m    485\u001B[0m \u001B[38;5;28;01mif\u001B[39;00m x\u001B[38;5;241m.\u001B[39mshape[\u001B[38;5;241m0\u001B[39m] \u001B[38;5;241m!=\u001B[39m y\u001B[38;5;241m.\u001B[39mshape[\u001B[38;5;241m0\u001B[39m]:\n\u001B[1;32m--> 486\u001B[0m     \u001B[38;5;28;01mraise\u001B[39;00m \u001B[38;5;167;01mValueError\u001B[39;00m(\u001B[38;5;124mf\u001B[39m\u001B[38;5;124m\"\u001B[39m\u001B[38;5;124mx and y must have same first dimension, but \u001B[39m\u001B[38;5;124m\"\u001B[39m\n\u001B[0;32m    487\u001B[0m                      \u001B[38;5;124mf\u001B[39m\u001B[38;5;124m\"\u001B[39m\u001B[38;5;124mhave shapes \u001B[39m\u001B[38;5;132;01m{\u001B[39;00mx\u001B[38;5;241m.\u001B[39mshape\u001B[38;5;132;01m}\u001B[39;00m\u001B[38;5;124m and \u001B[39m\u001B[38;5;132;01m{\u001B[39;00my\u001B[38;5;241m.\u001B[39mshape\u001B[38;5;132;01m}\u001B[39;00m\u001B[38;5;124m\"\u001B[39m)\n\u001B[0;32m    488\u001B[0m \u001B[38;5;28;01mif\u001B[39;00m x\u001B[38;5;241m.\u001B[39mndim \u001B[38;5;241m>\u001B[39m \u001B[38;5;241m2\u001B[39m \u001B[38;5;129;01mor\u001B[39;00m y\u001B[38;5;241m.\u001B[39mndim \u001B[38;5;241m>\u001B[39m \u001B[38;5;241m2\u001B[39m:\n\u001B[0;32m    489\u001B[0m     \u001B[38;5;28;01mraise\u001B[39;00m \u001B[38;5;167;01mValueError\u001B[39;00m(\u001B[38;5;124mf\u001B[39m\u001B[38;5;124m\"\u001B[39m\u001B[38;5;124mx and y can be no greater than 2D, but have \u001B[39m\u001B[38;5;124m\"\u001B[39m\n\u001B[0;32m    490\u001B[0m                      \u001B[38;5;124mf\u001B[39m\u001B[38;5;124m\"\u001B[39m\u001B[38;5;124mshapes \u001B[39m\u001B[38;5;132;01m{\u001B[39;00mx\u001B[38;5;241m.\u001B[39mshape\u001B[38;5;132;01m}\u001B[39;00m\u001B[38;5;124m and \u001B[39m\u001B[38;5;132;01m{\u001B[39;00my\u001B[38;5;241m.\u001B[39mshape\u001B[38;5;132;01m}\u001B[39;00m\u001B[38;5;124m\"\u001B[39m)\n",
      "\u001B[1;31mValueError\u001B[0m: x and y must have same first dimension, but have shapes (4, 3) and (1,)"
     ]
    },
    {
     "data": {
      "text/plain": [
       "<Figure size 640x480 with 1 Axes>"
      ],
      "image/png": "[encoded data removed]"
     },
     "metadata": {},
     "output_type": "display_data"
    }
   ],
   "execution_count": 13
  },
  {
   "attachments": {},
   "cell_type": "markdown",
   "id": "3122c007-f55b-4713-802c-6559d941e96c",
   "metadata": {},
   "source": [
    "## 2: Classifying the Iris Dataset\n",
    "\n",
    "Using the basics learned above, we can now load the Iris dataset into PyTorch tensors.\n",
    "\n",
    "### 2.1: ✏️ Load and Preprocess the Dataset\n",
    "\n",
    "1. Load the Iris dataset and modify it to only seperate if something is of class _setosa_ or not. Call this _binary iris_ dataset _biris_ and the variables ``biris_X``, and ``biris_y``. Create a list ``biris_data`` of tuples containing the X values and the corresponding true/false label for each row.\n"
   ]
  },
  {
   "cell_type": "code",
   "id": "72eb7477",
   "metadata": {},
   "source": [
    "# TODO: Implement\n",
    "\n"
   ],
   "outputs": [],
   "execution_count": null
  },
  {
   "attachments": {},
   "cell_type": "markdown",
   "id": "5dc2fff1",
   "metadata": {},
   "source": [
    "2. Convert ``biris_X`` and ``biris_y`` to PyTorch tensors.\n"
   ]
  },
  {
   "cell_type": "code",
   "id": "903fa34b",
   "metadata": {},
   "source": [
    "# TODO: Implement\n"
   ],
   "outputs": [],
   "execution_count": null
  },
  {
   "attachments": {},
   "cell_type": "markdown",
   "id": "60cbf1a1",
   "metadata": {},
   "source": [
    "### 2.2: ✏️ Logistic Regression\n",
    "\n",
    "We want to perform a binary classification using a logistic regression and the sigmoid function. In a logistic regression, for each feature weights are learned.\n",
    "\n",
    "1. Define a python method ``sigmoid(x)`` that implements the sigmoid function (using PyTorch methods). Compare it to the ``torch.sigmoid`` method for values $x\\in[-5,5]$\n"
   ]
  },
  {
   "cell_type": "code",
   "id": "cc7cfd0e",
   "metadata": {},
   "source": [
    "# TODO: Implement\n",
    "# sigmoid function 1/1+e^(-x)\n",
    "def sigmoid(x):\n",
    "    return 1 / (1 + torch.exp(-x))"
   ],
   "outputs": [],
   "execution_count": null
  },
  {
   "attachments": {},
   "cell_type": "markdown",
   "id": "8fa95f80",
   "metadata": {},
   "source": [
    "2. For the logistic regression, we will need to pass both weights and data to the logistic function. Define a method ``logistic(w, x)`` that passes the result of a matrix multiplication of data and weights (``x @ w``) to the sigmoid function.\n"
   ]
  },
  {
   "cell_type": "code",
   "id": "99974da9",
   "metadata": {},
   "source": [
    "# TODO: Implement\n"
   ],
   "outputs": [],
   "execution_count": null
  },
  {
   "attachments": {},
   "cell_type": "markdown",
   "id": "35d2f606",
   "metadata": {},
   "source": [
    "3. Call the logistic function using ``biris_X`` and random weights. Save the predictions in the variable ``y_pred_random``.\n"
   ]
  },
  {
   "cell_type": "code",
   "id": "3450b2b5",
   "metadata": {},
   "source": [
    "# TODO: Implement\n"
   ],
   "outputs": [],
   "execution_count": null
  },
  {
   "attachments": {},
   "cell_type": "markdown",
   "id": "ba7e2fa6",
   "metadata": {},
   "source": [
    "4. Of course, in reality, the weights should be updated in an iterative process. For this, we will need a loss function. Implement the binary cross entropy loss $$ L_{BCE} = - \\frac{1}{n} \\sum^n_{i=1}\\left(Y_i\\cdot \\log\\hat{Y_i} + (1-Y_i) \\cdot \\log(1-\\hat{Y_i})\\right) $$ (with the predicted labels $\\hat{Y}$ and the groundtruth labels $Y$) in a python method ``bce(y, y_hat)`` using PyTorch methods. Make use of built-in aggregation methods and vectorized methods instead of using ``for``-loops. Note: As calculating the BCE loss is known to be numerically unstable, clamp the output of each $\\log$ to be $\\geq - 100$ (read more [here](https://pytorch.org/docs/stable/generated/torch.nn.BCELoss.html))."
   ]
  },
  {
   "cell_type": "code",
   "id": "d9ae0b1c",
   "metadata": {},
   "source": [
    "# TODO: Implement\n",
    "\n"
   ],
   "outputs": [],
   "execution_count": null
  },
  {
   "attachments": {},
   "cell_type": "markdown",
   "id": "7200f258",
   "metadata": {},
   "source": [
    "5. Evaluate the prediction ``y_pred_random`` using the bce loss function. \n",
    "Compare your own loss value to the output of the method ``torch.nn.functional.binary_cross_entropy(Y_hat, Y)`` (which requires ``Y`` to be of type float).\n"
   ]
  },
  {
   "cell_type": "code",
   "id": "6def519d",
   "metadata": {},
   "source": [
    "# TODO: Implement\n"
   ],
   "outputs": [],
   "execution_count": null
  },
  {
   "attachments": {},
   "cell_type": "markdown",
   "id": "405beb4e",
   "metadata": {},
   "source": [
    "6. Create a new random weight tensor ``w``, but this time enable ``requires_grad``. For the given ``biris_X``, ``biris_y`` and the random weigths ``w`` create a combined loss function $L(X, y, w)$, similar to $f(U,V)$ earlier. Call ``backward()`` on this method instance and print partial derivative $L'_w(X, Y, w) = $ ``w.grad``.\n"
   ]
  },
  {
   "cell_type": "code",
   "id": "a8fd454c",
   "metadata": {},
   "source": [
    "# TODO: Implement\n"
   ],
   "outputs": [],
   "execution_count": null
  },
  {
   "attachments": {},
   "cell_type": "markdown",
   "id": "65fa39a1",
   "metadata": {},
   "source": [
    "7. Perform a single weight update step by subtracting the calculated gradient from the previous weight wector w. Predict ``y_pred_learned`` by running the logistic function with the updated weights. Evaluate the predictions using the bce loss function. If the loss increases, try multiplying the gradient with a learning rate, e.g. 0.001 before subtracting."
   ]
  },
  {
   "cell_type": "code",
   "id": "2d1aa94a",
   "metadata": {},
   "source": [
    "# TODO: Implement\n",
    "\n"
   ],
   "outputs": [],
   "execution_count": null
  },
  {
   "attachments": {},
   "cell_type": "markdown",
   "id": "bbd4d698",
   "metadata": {},
   "source": [
    "8. To perform multiple weight update steps, the gradient descent algorithm is used. Run the given method with the fixed learning rate $\\alpha=0.01$ and randomly initialized weights to retrieve learned weights.\n"
   ]
  },
  {
   "cell_type": "code",
   "id": "bd9faa2f",
   "metadata": {},
   "source": [
    "def gd(modelfunc, lossfunc, X, y, w0, alpha, max_epochs=500):\n",
    "    \"\"\"Gradient Descent Algorithm\n",
    "\n",
    "    This basic method is given given here, you can implement and improve it by yourself in the optimization lab.\n",
    "\n",
    "    For each epoch:\n",
    "        - forward-step (predict labels and calculate loss)\n",
    "        - backward-step (perform backpropagation)\n",
    "        - update weights (create new weight tensor with resetted gradient tracking)\n",
    "        - log weight history\n",
    "\n",
    "    \"\"\"\n",
    "    w = w0.clone().detach().requires_grad_()\n",
    "    for k in range(max_epochs):\n",
    "        pred = modelfunc(w, X)\n",
    "        loss = lossfunc(y, pred)\n",
    "        loss.backward()\n",
    "        direction_of_descent = -w.grad\n",
    "        w = w + alpha * direction_of_descent\n",
    "        w.grad = None\n",
    "        w.retain_grad()\n",
    "    return w\n"
   ],
   "outputs": [],
   "execution_count": null
  },
  {
   "cell_type": "code",
   "id": "36904c8b",
   "metadata": {},
   "source": [
    "# TODO: Implement\n",
    "\n"
   ],
   "outputs": [],
   "execution_count": null
  },
  {
   "attachments": {},
   "cell_type": "markdown",
   "id": "81eb0248",
   "metadata": {},
   "source": [
    "9. Use the gradient-descent learned weights to predict ``y_pred_gd_``. Evaluate using the bce loss function (the error should be even lower).\n"
   ]
  },
  {
   "cell_type": "code",
   "id": "229eaefc",
   "metadata": {},
   "source": [
    "# TODO: Implement\n"
   ],
   "outputs": [],
   "execution_count": null
  },
  {
   "attachments": {},
   "cell_type": "markdown",
   "id": "3920b90c",
   "metadata": {},
   "source": [
    "10. When you round the output of the logistic function to either 0 or 1, you get the predicted class. Calculate the prediction accuracy for each set of predictions we had so far (``y_pred_random``, ``y_pred_learned`` and ``y_pred_gd``)\n"
   ]
  },
  {
   "cell_type": "code",
   "id": "babd3a2b",
   "metadata": {},
   "source": [
    "# TODO: Implement\n"
   ],
   "outputs": [],
   "execution_count": null
  },
  {
   "attachments": {},
   "cell_type": "markdown",
   "id": "1ae88e02",
   "metadata": {},
   "source": [
    "11. Write a new gradient descent method ``gdi`` that saves the weights and the loss in each epoch (and returns lists of both in the end).\n"
   ]
  },
  {
   "cell_type": "code",
   "id": "731f4148",
   "metadata": {},
   "source": [
    "def gdi(modelfunc, lossfunc, X, y, w0, alpha, max_epochs=500):\n",
    "    # TODO: Implement\n",
    "    \n",
    "    return w_history, l_history\n"
   ],
   "outputs": [],
   "execution_count": null
  },
  {
   "attachments": {},
   "cell_type": "markdown",
   "id": "81622be5",
   "metadata": {},
   "source": [
    "12. Write a method ``visualize_error(errors)`` to visualize the loss in each epoch. Train ``gdi`` for 1000 epochs on biris and plot the error for each epoch.\n"
   ]
  },
  {
   "cell_type": "code",
   "id": "ad10bf39",
   "metadata": {},
   "source": [
    "# TODO: Implement\n",
    "def visualize_error(errors):\n",
    "    plt.plot(errors)\n",
    "    plt.xlabel(\"Epochs\")\n",
    "    plt.ylabel(\"Loss\")\n",
    "    plt.title(\"Loss over epochs\")\n",
    "    plt.grid()\n",
    "    plt.show()"
   ],
   "outputs": [],
   "execution_count": null
  },
  {
   "attachments": {},
   "cell_type": "markdown",
   "id": "656c5dbf",
   "metadata": {},
   "source": [
    "13. Train 50 epochs of gdi for different learning rates (at least 3), which ones work better than others? Create a method ``visualize_loss_multi`` that takes a list of tuples ``(lr, loss_history)`` as input and visualize the different loss curves.\n"
   ]
  },
  {
   "cell_type": "code",
   "id": "082b0095",
   "metadata": {},
   "source": [
    "# TODO: Implement\n",
    "def visualize_loss_multi(lr, loss_history):\n",
    "    plt.figure(figsize=(10, 5))\n",
    "    for i in range(len(lr)):\n",
    "        plt.plot(loss_history[i][1], label=f\"lr={lr[i]}\")\n",
    "    plt.xlabel(\"Epochs\")\n",
    "    plt.ylabel(\"Loss\")\n",
    "    plt.title(\"Loss over epochs\")\n",
    "    plt.legend()\n",
    "    plt.grid()\n",
    "    plt.show()\n"
   ],
   "outputs": [],
   "execution_count": null
  },
  {
   "attachments": {},
   "cell_type": "markdown",
   "id": "cfa01dd8-5352-478a-a78c-916612aef99c",
   "metadata": {},
   "source": [
    "### 2.3: ✏️ Shallow neural network for Iris Dataset\n",
    "\n",
    "A shallow neural network has exactly one hidden (fully-connected) layer between the input and output layers.\n",
    "\n",
    "We therefore train two \"layers\" of weights, one connecting each input feature to each neuron of the hidden layer and one connecting each hidden layer neuron to the final output layer, which in our case consists of only one neuron."
   ]
  },
  {
   "cell_type": "code",
   "id": "55a674d1",
   "metadata": {},
   "source": [
    "n_hidden_neuron = 10\n",
    "n_features = biris_X.shape[1]"
   ],
   "outputs": [],
   "execution_count": null
  },
  {
   "attachments": {},
   "cell_type": "markdown",
   "id": "2e7ac54b",
   "metadata": {},
   "source": [
    "1. Initialize the two random weight tensors ``w1`` and ``w2``. Note: These `w` matrices need to be transposed compared to the lecture. Here, `n_features` is the number of rows of the tensor."
   ]
  },
  {
   "cell_type": "code",
   "id": "b5e9f9e4",
   "metadata": {},
   "source": [
    "# TODO: Implement\n"
   ],
   "outputs": [],
   "execution_count": null
  },
  {
   "attachments": {},
   "cell_type": "markdown",
   "id": "b7f13b34",
   "metadata": {},
   "source": [
    "2. Define a python method to calculate the outputs of the neural network (predictions). \n",
    "This is quite easy, just predict like you previously did, but chain the output of the first layer to the second layer and use w1 and w2 respectively. \n",
    "[Squeeze](https://pytorch.org/docs/stable/generated/torch.squeeze.html) the output to remove unnecessary lists."
   ]
  },
  {
   "cell_type": "code",
   "id": "1c8279df",
   "metadata": {},
   "source": [
    "def nn_shallow(w1, w2, x):\n",
    "    return\n",
    "    # TODO: Implement\n"
   ],
   "outputs": [],
   "execution_count": null
  },
  {
   "attachments": {},
   "cell_type": "markdown",
   "id": "9cd28f0f",
   "metadata": {},
   "source": [
    "3. Run your shallow network on biris and the two random weights. Print the output shape"
   ]
  },
  {
   "cell_type": "code",
   "id": "7f38a2d0",
   "metadata": {},
   "source": [
    "# TODO: Implement\n"
   ],
   "outputs": [],
   "execution_count": null
  },
  {
   "attachments": {},
   "cell_type": "markdown",
   "id": "46599334",
   "metadata": {},
   "source": [
    "4. Calculate BCE loss on these predictions"
   ]
  },
  {
   "cell_type": "code",
   "id": "f34f7eb3",
   "metadata": {},
   "source": [
    "# TODO: Implement\n"
   ],
   "outputs": [],
   "execution_count": null
  },
  {
   "attachments": {},
   "cell_type": "markdown",
   "id": "38d8c495",
   "metadata": {},
   "source": [
    "5. Create a copy of the gradient descend ``gdi`` method called ``gdi_two_w`` to allow updating both weights w1 and w2 (using the respective gradients). It will return the history for both weights separately."
   ]
  },
  {
   "cell_type": "code",
   "id": "2ca8d266",
   "metadata": {},
   "source": [
    "# TODO: Implement\n",
    "def gdi_two_w(modelfunc, lossfunc, X, y, w1_0, w2_0, alpha, max_epochs=500):\n",
    "   \n",
    "    return w1_history, w2_history, l_history"
   ],
   "outputs": [],
   "execution_count": null
  },
  {
   "attachments": {},
   "cell_type": "markdown",
   "id": "a4869056",
   "metadata": {},
   "source": [
    "6. Initialize random weights with ``requires_grad=True`` and train 1000 epochs of ``gdi_two_w`` using your shallow network as ``modelfunc``, the biris dataset and a learning rate of 0.01."
   ]
  },
  {
   "cell_type": "code",
   "id": "ee75db39",
   "metadata": {},
   "source": [
    "# TODO: Implement\n"
   ],
   "outputs": [],
   "execution_count": null
  },
  {
   "attachments": {},
   "cell_type": "markdown",
   "id": "0ad319e2",
   "metadata": {},
   "source": [
    "7. Train 120 epochs of ``gdi_two_w`` for different learning rates (at least 3). Does the error always go down with more epochs? Which learning rates work well?"
   ]
  },
  {
   "cell_type": "code",
   "id": "4bcec703",
   "metadata": {},
   "source": [
    "# TODO: Implement & Answer\n"
   ],
   "outputs": [],
   "execution_count": null
  },
  {
   "attachments": {},
   "cell_type": "markdown",
   "id": "f0650640",
   "metadata": {},
   "source": [
    "## 3: Classifying the Fashion MNIST Dataset\n",
    "So far, we build everything by ourselves. PyTorch however also offers a wide variety of functions to define neural networks easier.\n",
    "In this example, we create a PyTorch Module to define a simple neural network that will classify the fashion mnist data.\n",
    "\n",
    "### 3.1: Load the Data into a tensor\n",
    "Just as in the PCA exercise, we first load the data from disk into a dataframe and quickly visualize it."
   ]
  },
  {
   "cell_type": "code",
   "id": "d1eed4df",
   "metadata": {},
   "source": [
    "# Load Dataset\n",
    "fm = pd.read_csv(\"data/fashion_mnist_train.csv.zip\", index_col=\"Id\")\n",
    "fm_labels = [\"T-Shirt\", \"Trouser\", \"Pullover\", \"Dress\", \"Coat\", \"Sandal\", \"Shirt\", \"Sneaker\", \"Bag\", \"Boot\"]\n",
    "display(fm.head(2))\n",
    "\n",
    "# Visualize Examples\n",
    "num_samples = 20\n",
    "ax = plt.subplots(nrows=1, ncols=num_samples, figsize=(24, 4))[1]\n",
    "for i in range(num_samples):\n",
    "    ax[i].set_axis_off()\n",
    "    ax[i].set_title(f\"{i}\\n{fm_labels[fm.Category[i]]}\")\n",
    "    ax[i].imshow(fm.loc[i].values[1:].reshape((28,28)), cmap=\"gray_r\")\n",
    "plt.show()"
   ],
   "outputs": [],
   "execution_count": null
  },
  {
   "attachments": {},
   "cell_type": "markdown",
   "id": "2e34549d",
   "metadata": {},
   "source": [
    "Now, we transform it into PyTorch tensors:"
   ]
  },
  {
   "cell_type": "code",
   "id": "78f55490",
   "metadata": {},
   "source": [
    "fm_X = torch.tensor(fm.drop(\"Category\", axis=1).values, dtype=torch.float32).reshape(-1, 1, 28, 28)\n",
    "fm_y = torch.tensor(fm.Category.values.astype('int') , dtype=torch.long)\n",
    "\n",
    "print(fm_X.shape, fm_y.shape)"
   ],
   "outputs": [],
   "execution_count": null
  },
  {
   "attachments": {},
   "cell_type": "markdown",
   "id": "1c1fa529",
   "metadata": {},
   "source": [
    "### 3.2: Defining and Training a simple Classifier\n",
    "Defining a neural network in PyTorch using the Module API will look like this: "
   ]
  },
  {
   "cell_type": "code",
   "id": "e60afd87",
   "metadata": {},
   "source": [
    "class SimpleClassifier(torch.nn.Module):\n",
    "    def __init__(self, num_outputs):\n",
    "        super().__init__()\n",
    "        # self.linear1 = nn.Linear(num_inputs, num_hidden_neurons)\n",
    "        # self.linear2 = torch.nn.Linear(num_hidden_neurons, num_outputs)\n",
    "        self.conv1 = torch.nn.Conv2d(1, 4, 3, 1)\n",
    "        self.conv2 = torch.nn.Conv2d(4, 8, 3, 1)\n",
    "        self.dropout1 = torch.nn.Dropout(0.25)\n",
    "        self.dropout2 = torch.nn.Dropout(0.5)\n",
    "        self.fc1 = torch.nn.Linear(1152, 128)\n",
    "        self.fc2 = torch.nn.Linear(128, num_outputs)\n",
    "\n",
    "\n",
    "    def forward(self, x):\n",
    "        x = self.conv1(x)\n",
    "        x = torch.nn.functional.relu(x)\n",
    "        x = self.conv2(x)\n",
    "        x = torch.nn.functional.relu(x)\n",
    "        x = torch.nn.functional.max_pool2d(x, 2)\n",
    "        x = self.dropout1(x)\n",
    "        x = torch.flatten(x, 1)\n",
    "        x = self.fc1(x)\n",
    "        x = torch.nn.functional.relu(x)\n",
    "        x = self.dropout2(x)\n",
    "        x = self.fc2(x)\n",
    "        output = torch.nn.functional.log_softmax(x, dim=1)\n",
    "        return output\n"
   ],
   "outputs": [],
   "execution_count": null
  },
  {
   "attachments": {},
   "cell_type": "markdown",
   "id": "6a7b6b29",
   "metadata": {},
   "source": [
    "Our training loop will look like this:"
   ]
  },
  {
   "cell_type": "code",
   "id": "55c40334",
   "metadata": {},
   "source": [
    "def train_model(model, optimizer, X, y, loss_module, num_epochs=5):\n",
    "    model.train()\n",
    "    loss_history = []\n",
    "    for epoch in range(num_epochs):\n",
    "        preds = model(X)\n",
    "        preds = preds.squeeze(dim=1)\n",
    "        loss = loss_module(preds, y)\n",
    "        loss_history.append(loss.detach().numpy().item())\n",
    "        optimizer.zero_grad()\n",
    "        loss.backward()\n",
    "        optimizer.step()\n",
    "        print(f\"loss after epoch {epoch}: {loss}\")\n",
    "    return loss_history"
   ],
   "outputs": [],
   "execution_count": null
  },
  {
   "attachments": {},
   "cell_type": "markdown",
   "id": "c9daba8c",
   "metadata": {},
   "source": [
    "For running our training loop, we simply need to populate all the method parameters. For optimizer and loss, we can simply choose from what's built-in. Training the neural network will take about 3 minutes. "
   ]
  },
  {
   "cell_type": "code",
   "id": "115b107b",
   "metadata": {},
   "source": [
    "model = SimpleClassifier(num_outputs=10)\n",
    "print(model)\n",
    "\n",
    "loss_history = train_model(\n",
    "    model,\n",
    "    optimizer=torch.optim.SGD(model.parameters(), lr=0.1), # instead of GD\n",
    "    X=fm_X,\n",
    "    y=fm_y,\n",
    "    loss_module=torch.nn.CrossEntropyLoss(), # instead of BinaryCrossEntropy\n",
    "    num_epochs=10\n",
    ")\n"
   ],
   "outputs": [],
   "execution_count": null
  },
  {
   "attachments": {},
   "cell_type": "markdown",
   "id": "04c441f5",
   "metadata": {},
   "source": [
    "Everything the model learned is now contained in the ``model`` object, including weights.\n",
    "The history of losses was saved in our training loop."
   ]
  },
  {
   "cell_type": "code",
   "id": "e5a856ec",
   "metadata": {},
   "source": [
    "print(list(model.state_dict().keys()), model.state_dict()[\"conv1.weight\"][0][0][0])\n",
    "print(loss_history)\n",
    "\n",
    "\n",
    "visualize_loss(loss_history)"
   ],
   "outputs": [],
   "execution_count": null
  },
  {
   "attachments": {},
   "cell_type": "markdown",
   "id": "6ef389f5",
   "metadata": {},
   "source": [
    "### 4: ✏️ PyTorch model for Iris (Optional)\n",
    "1. Create a PyTorch classifier class, model and training function for classifying either Iris or Biris. "
   ]
  },
  {
   "cell_type": "code",
   "id": "eea6afd0",
   "metadata": {},
   "source": [
    "# TODO: Implement (optional)"
   ],
   "outputs": [],
   "execution_count": null
  },
  {
   "attachments": {},
   "cell_type": "markdown",
   "id": "4f97fd0d",
   "metadata": {},
   "source": [
    "2. Compare your accuracy to the previous approach"
   ]
  },
  {
   "cell_type": "code",
   "id": "80008898",
   "metadata": {},
   "source": [
    "# TODO: Implement (optional)"
   ],
   "outputs": [],
   "execution_count": null
  }
 ],
 "metadata": {
  "kernelspec": {
   "display_name": "Python [conda env:base] *",
   "language": "python",
   "name": "conda-base-py"
  },
  "language_info": {
   "codemirror_mode": {
    "name": "ipython",
    "version": 3
   },
   "file_extension": ".py",
   "mimetype": "text/x-python",
   "name": "python",
   "nbconvert_exporter": "python",
   "pygments_lexer": "ipython3",
   "version": "3.10.0"
  }
 },
 "nbformat": 4,
 "nbformat_minor": 5
}
